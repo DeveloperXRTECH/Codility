{
 "cells": [
  {
   "cell_type": "markdown",
   "metadata": {},
   "source": [
    "Ref: https://www.youtube.com/watch?v=gTgRfjIQMYw&list=PLZAjJcBlySRiNm4GMxbHQaAOzTr7iAf6c\n",
    "\n",
    "A non-empty array A consisting of N intergers is given. Array A represents numbers on a tape.\n",
    "Any integer P, such that 0<P<N splits this tape inte two non-empty parts:\n",
    "A[0], A[1], ... , A[P-1] and A[P], A[P+1], ... , A[N-1]\n",
    "\n",
    "The difference between the two parts is the value of \n",
    "|A[0], A[1], ... , A[P-1] - A[P], A[P+1], ... , A[N-1]|\n",
    "\n",
    "In other words, it is the absolute difference between the sum of the first part and the sum of the last part. \n",
    "\n",
    "For example, consider array A such that:\n",
    "A[0]=3\n",
    "A[1]=1\n",
    "A[2]=2\n",
    "A[3]=4\n",
    "A[4]=3\n",
    "\n",
    "We can split the tape in four places:\n",
    "P=1, difference = |3-10|=7\n",
    "P=2, difference = |4-9|= 5\n",
    "P=3, difference = |6-7|= 1\n",
    "P=4, difference = |10-3|=7\n",
    "\n",
    "Write a function:\n",
    "    def solution(A)\n",
    "\n",
    "that, given a non-empty array A of N integers, return the minimal difference that can be achieved. \n",
    "\n",
    "With the given A array the minimum absolute sum difference will be 1. \n",
    "\n",
    "Write an efficient algorithm for the following assumptions:\n",
    "-N is an integer within the range [ 2.,100000 ]\n",
    "-each element of array A is an integer within the range [-1000,1000]\n",
    "\n",
    "#/////////////////////////////////////////////////////////////////////\n",
    "Solution \n",
    "For efficient code do not use sum in for loop\n",
    "\n",
    "A new idea: use a matrix multiplication\n"
   ]
  },
  {
   "cell_type": "code",
   "execution_count": 27,
   "metadata": {},
   "outputs": [],
   "source": [
    "\n",
    "def solution(A):\n",
    "    import numpy as np\n",
    "    N=len(A)\n",
    "    Aar=np.array(A)\n",
    "    X=np.ones(N)\n",
    "    Xb=X-2*np.triu(X,k=1)\n",
    "    Xbm=np.delete(Xb, N-1, axis=0)\n",
    "    absdiff=np.absolute(Xbm@Aar.T)\n",
    "    return(int(min(absdiff)))"
   ]
  },
  {
   "cell_type": "code",
   "execution_count": 26,
   "metadata": {},
   "outputs": [
    {
     "data": {
      "text/plain": [
       "1"
      ]
     },
     "execution_count": 26,
     "metadata": {},
     "output_type": "execute_result"
    }
   ],
   "source": [
    "A=[3,1,2,4,3]\n",
    "solution(A)"
   ]
  },
  {
   "cell_type": "code",
   "execution_count": 23,
   "metadata": {},
   "outputs": [
    {
     "data": {
      "text/plain": [
       "1500"
      ]
     },
     "execution_count": 23,
     "metadata": {},
     "output_type": "execute_result"
    }
   ],
   "source": [
    "A=[-1000,500, 1000 ]\n",
    "solution(A)"
   ]
  },
  {
   "cell_type": "code",
   "execution_count": 21,
   "metadata": {},
   "outputs": [
    {
     "data": {
      "text/plain": [
       "1"
      ]
     },
     "execution_count": 21,
     "metadata": {},
     "output_type": "execute_result"
    }
   ],
   "source": [
    "A=[1,2]\n",
    "solution(A)"
   ]
  }
 ],
 "metadata": {
  "interpreter": {
   "hash": "2f9062c5d7843b9e0b3478aa74d687d98624ade8065bdcf895719a6c2b80f3c9"
  },
  "kernelspec": {
   "display_name": "Python 3.10.4 64-bit (windows store)",
   "language": "python",
   "name": "python3"
  },
  "language_info": {
   "codemirror_mode": {
    "name": "ipython",
    "version": 3
   },
   "file_extension": ".py",
   "mimetype": "text/x-python",
   "name": "python",
   "nbconvert_exporter": "python",
   "pygments_lexer": "ipython3",
   "version": "3.10.4"
  },
  "orig_nbformat": 4
 },
 "nbformat": 4,
 "nbformat_minor": 2
}
